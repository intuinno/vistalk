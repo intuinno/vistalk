{
 "metadata": {
  "name": ""
 },
 "nbformat": 3,
 "nbformat_minor": 0,
 "worksheets": [
  {
   "cells": [
    {
     "cell_type": "code",
     "collapsed": false,
     "input": [
      "# fill in this function\n",
      "def fib():\n",
      "    a = 1\n",
      "    b = 1\n",
      "    for i in xrange(2):\n",
      "        yield 1\n",
      "        \n",
      "    for i in xrange(110):\n",
      "        a, b = b, a+b\n",
      "        yield b\n",
      "\n",
      "# testing code\n",
      "import types\n",
      "if type(fib()) == types.GeneratorType:\n",
      "    print \"Good, The fib function is a generator.\"\n",
      "\n",
      "    counter = 0\n",
      "    for n in fib():\n",
      "        print n\n",
      "        counter += 1\n",
      "        if counter == 10:\n",
      "            break"
     ],
     "language": "python",
     "metadata": {},
     "outputs": [
      {
       "output_type": "stream",
       "stream": "stdout",
       "text": [
        "Good, The fib function is a generator.\n",
        "1\n",
        "1\n",
        "2\n",
        "3\n",
        "5\n",
        "8\n",
        "13\n",
        "21\n",
        "34\n",
        "55\n"
       ]
      }
     ],
     "prompt_number": 6
    },
    {
     "cell_type": "code",
     "collapsed": false,
     "input": [],
     "language": "python",
     "metadata": {},
     "outputs": []
    }
   ],
   "metadata": {}
  }
 ]
}